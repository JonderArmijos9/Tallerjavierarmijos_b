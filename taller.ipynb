{
 "cells": [
  {
   "cell_type": "code",
   "execution_count": 7,
   "metadata": {},
   "outputs": [
    {
     "name": "stdout",
     "output_type": "stream",
     "text": [
      "5\n",
      "9\n"
     ]
    }
   ],
   "source": [
    "def sumar(a,b):\n",
    "    return a+b\n",
    "\n",
    "print(sumar( 2, 3))\n",
    "print(sumar(4,5))"
   ]
  },
  {
   "cell_type": "code",
   "execution_count": 1,
   "metadata": {},
   "outputs": [
    {
     "name": "stdout",
     "output_type": "stream",
     "text": [
      "sqrt: 5.0\n",
      "sumar: 5\n",
      "resta: -1\n",
      "multiplicar: 20\n",
      "distancia: 3.605551275463989\n"
     ]
    }
   ],
   "source": [
    "import math \n",
    "from matematicas import sumar, restar, multiplicar, dividir \n",
    "from geometria import distancia \n",
    "print(\"sqrt:\", math.sqrt(25))\n",
    "print(\"sumar:\",sumar(2, 3))\n",
    "print(\"resta:\",restar(2, 3))\n",
    "print(\"multiplicar:\",multiplicar (4, 5))\n",
    "print(\"distancia:\", distancia (1, 1, 3, 4))"
   ]
  },
  {
   "cell_type": "code",
   "execution_count": null,
   "metadata": {},
   "outputs": [],
   "source": []
  }
 ],
 "metadata": {
  "kernelspec": {
   "display_name": "Python 3 (ipykernel)",
   "language": "python",
   "name": "python3"
  },
  "language_info": {
   "codemirror_mode": {
    "name": "ipython",
    "version": 3
   },
   "file_extension": ".py",
   "mimetype": "text/x-python",
   "name": "python",
   "nbconvert_exporter": "python",
   "pygments_lexer": "ipython3",
   "version": "3.10.4"
  },
  "orig_nbformat": 4
 },
 "nbformat": 4,
 "nbformat_minor": 2
}
